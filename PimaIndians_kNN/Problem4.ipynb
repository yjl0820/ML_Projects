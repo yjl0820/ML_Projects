{
 "cells": [
  {
   "cell_type": "markdown",
   "metadata": {},
   "source": [
    "## CPMSC 448 Homework 2\n",
    "### Problem 4\n",
    "\n",
    "#### Name:\n",
    "#### PSU id:\n",
    "\n",
    "\n",
    "In this problem will use the Pima Indians Diabetes dataset from the UCI repository to experiment with the $k$-NN algorithm and find the optimal value for the number of neighbors  $k$. You do not need to implement the algorithm and encouraged to use the implementation in \\texttt{scikit-learn}.\n"
   ]
  },
  {
   "cell_type": "code",
   "execution_count": 1,
   "metadata": {},
   "outputs": [],
   "source": [
    "import pandas as pd\n",
    "import sklearn as sk\n",
    "import numpy as np\n",
    "import matplotlib.pyplot as plt\n",
    "import random\n",
    "\n",
    "from sklearn.neighbors import KNeighborsClassifier\n",
    "from sklearn.model_selection import train_test_split, KFold, cross_val_score\n",
    "from sklearn import datasets\n",
    "from sklearn.preprocessing import StandardScaler\n",
    "from sklearn.preprocessing import MinMaxScaler \n",
    "\n"
   ]
  },
  {
   "cell_type": "markdown",
   "metadata": {},
   "source": [
    "### a) \n",
    "Download the provided `Pima.csv` data file and load it using `pandas`. As a sanity check, make sure  there are 768 rows of data (potential diabetes patients) and 9 columns (8 input features including  `Pregnancies`, `Glucose`, `BloodPressure`, `SkinThickness`, `Insulin`, `BMI`, `DiabetesPedigreeFunction`, `Age`, and 1 target output). Note that the data file has no header and you might want to explicitly create the header. The last value in each row contains the target label for that row, and the remaining values are the features. Report the statics of each feature (min, max, average) and the histogram of the labels (target outputs).\n",
    "    "
   ]
  },
  {
   "cell_type": "code",
   "execution_count": 2,
   "metadata": {},
   "outputs": [
    {
     "name": "stdout",
     "output_type": "stream",
     "text": [
      "Statics (min, max, average(mean)) of each features: \n",
      "\n",
      "        Pregnancies     Glucose  BloodPressure  SkinThickness     Insulin  \\\n",
      "min      0.000000    0.000000       0.000000       0.000000    0.000000   \n",
      "max     17.000000  199.000000     122.000000      99.000000  846.000000   \n",
      "mean     3.845052  120.894531      69.105469      20.536458   79.799479   \n",
      "\n",
      "            BMI  DiabetesPedigreeFunction        Age  \n",
      "min    0.000000                  0.078000  21.000000  \n",
      "max   67.100000                  2.420000  81.000000  \n",
      "mean  31.992578                  0.471876  33.240885   \n",
      "\n",
      "\n",
      "The histogram of the label (target output): \n",
      "\n",
      " AxesSubplot(0.125,0.125;0.775x0.755)\n"
     ]
    },
    {
     "data": {
      "image/png": "[encoded data removed]",
      "text/plain": [
       "<Figure size 432x288 with 1 Axes>"
      ]
     },
     "metadata": {
      "needs_background": "light"
     },
     "output_type": "display_data"
    }
   ],
   "source": [
    "#Add header to data file. \n",
    "data = pd.read_csv('Pima.csv',names=[\"Pregnancies\", \"Glucose\", \"BloodPressure\", \"SkinThickness\", \"Insulin\", \"BMI\", \"DiabetesPedigreeFunction\", \"Age\", \"oneTargOutput\"])\n",
    "\n",
    "\n",
    "X = data.drop('oneTargOutput',axis = 1) # identify only featurs as X\n",
    "y = data.oneTargOutput  #identify only label(target output) as y \n",
    "\n",
    "\n",
    "#static of each feature (only: min, max, avg)\n",
    "statsX = X.describe().loc[['min','max','mean']] \n",
    "print (\"Statics (min, max, average(mean)) of each features: \\n\\n \", statsX,\"\\n\\n\")\n",
    "\n",
    "\n",
    "# histogram of the label (target outputs)\n",
    "hist_y= y.hist() #data.hist(column=[\"oneTargOutput\"])\n",
    "print (\"The histogram of the label (target output): \\n\\n\",hist_y)\n",
    "\n"
   ]
  },
  {
   "cell_type": "markdown",
   "metadata": {},
   "source": [
    "### b) \n",
    "Split the data into training and test data with 80\\% training and 20\\% test data sizes. \n",
    "\n",
    "Use 5-fold cross-validation on training data to decide the best number of neighbours $k$. To this end, you can use the built in functionality in  `scikit-learn` such as `cross_val_score`. For $k=1,2,3,\\ldots, 15$ compute the 5-fold cross validation error and plot the results  (with values of $k$ on the $x$-axis and accuracy on the $y$-axis). Include the plot in your report and justify your decision for picking a particular number of neighbors $k$."
   ]
  },
  {
   "cell_type": "code",
   "execution_count": 3,
   "metadata": {},
   "outputs": [
    {
     "name": "stdout",
     "output_type": "stream",
     "text": [
      "5-Fold Cross Validation Scores : \n",
      "\n",
      " [0.6628548580567772, 0.7100359856057576, 0.7018259362921497, 0.723030787684926, 0.7279354924696788, 0.7377582300413168, 0.7328668532586965, 0.7393309342929494, 0.7409969345595095, 0.7540183926429428, 0.7524057043849128, 0.7540183926429428, 0.7458349993336, 0.7556444089031055, 0.7539917366386779] \n",
      "\n",
      "\n",
      "max accuracy/score: \n",
      "\n",
      "  0.7556444089031055 at k = 14\n"
     ]
    },
    {
     "data": {
      "image/png": "[encoded data removed]",
      "text/plain": [
       "<Figure size 792x432 with 1 Axes>"
      ]
     },
     "metadata": {
      "needs_background": "light"
     },
     "output_type": "display_data"
    }
   ],
   "source": [
    "# Split the data into training and test data\n",
    "X_train, X_test, y_train, y_test = train_test_split(X, y, test_size=0.2, random_state=50) #random_state helps you retain the formatting of the dataset considering each time you split the dataset it is randomly shuffled\n",
    "\n",
    "\n",
    "\n",
    "# For  𝑘=1,2,3,…,15  compute the 5-fold cross validation error \n",
    "cross_val_scores = []\n",
    "neighbors = list(range(1, 16)) # For neighbors k = 1,2,3,...,15\n",
    "\n",
    "for i in neighbors: \n",
    "    knn = KNeighborsClassifier(n_neighbors=i)\n",
    "    scores = cross_val_score(knn,X_train, y_train,cv=5) #cv = 5--> 5 fold cross validation on training data.\n",
    "    cross_val_scores.append(scores.mean()) # 총 15개 나옴, np.mean(scores)\n",
    "\n",
    "print (\"5-Fold Cross Validation Scores : \\n\\n\", cross_val_scores,\"\\n\\n\")\n",
    "\n",
    "\n",
    "\n",
    "\n",
    "# plot the results (with values of  𝑘  on the  𝑥 -axis and accuracy on the  𝑦 -axis) and justify your decision for picking a particular number of neighbors  𝑘 .\n",
    "k = neighbors[np.argmax(cross_val_scores)]  # best neighbor/k --> using argmax (최대값의 위치) ex. 13th position --> k = 14\n",
    "print (\"max accuracy/score: \\n\\n \", max(cross_val_scores), \"at k =\",k)\n",
    "\n",
    "\n",
    "plt.figure(figsize=(11,6)) #(width, height)\n",
    "plt.plot(neighbors, cross_val_scores, color = \"green\", marker = 'o', markerfacecolor = 'black', markersize = 7) \n",
    "plt.xticks(np.arange(1,len(neighbors)+1, 1))\n",
    "plt.title('Accuracy vs. K Values') \n",
    "plt.xlabel('k Values') \n",
    "plt.ylabel('Accuracy')  \n",
    "plt.show()\n",
    "\n"
   ]
  },
  {
   "cell_type": "markdown",
   "metadata": {},
   "source": [
    "### c ) \n",
    "Evaluate the $k$-NN algorithm on test data with the optimal number of neighbours you obtained in previous step and report the test error."
   ]
  },
  {
   "cell_type": "code",
   "execution_count": 4,
   "metadata": {},
   "outputs": [
    {
     "name": "stdout",
     "output_type": "stream",
     "text": [
      "Test Accuracy :  0.7402597402597403\n",
      "Test Error :  0.2597402597402597\n"
     ]
    }
   ],
   "source": [
    "knn=KNeighborsClassifier(n_neighbors = k) # Create KNN classifier\n",
    "\n",
    "knn.fit(X_train, y_train) # Fit the classifier to the data\n",
    "\n",
    "yhat = knn.predict(X_test) # Predict the labels of test data\n",
    "\n",
    "#Or, directly check accuracy of our model on the test data\n",
    "Accuracy = (knn.score(X_test,y_test)) #larger score the better fit\n",
    "\n",
    "print(\"Test Accuracy : \", Accuracy)\n",
    "print(\"Test Error : \", 1-Accuracy)\n"
   ]
  },
  {
   "cell_type": "markdown",
   "metadata": {},
   "source": [
    "### d) \n",
    "Process the input data  by subtracting the mean (a.k.a. centralization) and dividing by the standard deviation (a.k.a. standardization) over each dimension (feature),  repeat the previous part and report the accuracy. Do centralization and standardization affect the accuracy? Why?"
   ]
  },
  {
   "cell_type": "code",
   "execution_count": 5,
   "metadata": {
    "scrolled": true
   },
   "outputs": [
    {
     "name": "stdout",
     "output_type": "stream",
     "text": [
      "Accuracy is  0.7638011462081835 at k = 14\n",
      "The centralization and standardation affect the accuracy. The accuracy at k = 14 increased\n"
     ]
    }
   ],
   "source": [
    "# Preprocess X_train by subtracting the mean (a.k.a. centralization) and dividing by the standard deviation (a.k.a. standardization) over each dimension (feature)\n",
    "preProc_X = X_train.apply(lambda x: ((x - x.mean()) / x.std()))\n",
    "\n",
    "#knn on k = 14\n",
    "knn = KNeighborsClassifier(n_neighbors = k)\n",
    "scores = cross_val_score(knn, preProc_X, y_train, cv = 5)\n",
    "\n",
    "print('Accuracy is ', scores.mean(), \"at k =\", k)\n",
    "print (\"The centralization and standardation affect the accuracy. The accuracy at k = 14 increased\")\n",
    "\n"
   ]
  }
 ],
 "metadata": {
  "kernelspec": {
   "display_name": "Python 3",
   "language": "python",
   "name": "python3"
  },
  "language_info": {
   "codemirror_mode": {
    "name": "ipython",
    "version": 3
   },
   "file_extension": ".py",
   "mimetype": "text/x-python",
   "name": "python",
   "nbconvert_exporter": "python",
   "pygments_lexer": "ipython3",
   "version": "3.8.5"
  }
 },
 "nbformat": 4,
 "nbformat_minor": 2
}
