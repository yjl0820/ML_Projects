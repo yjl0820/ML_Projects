{
 "cells": [
  {
   "cell_type": "markdown",
   "metadata": {},
   "source": [
    "### Name of the classifiers : Random Forests\n",
    "\n",
    "According to IBM, Random forest \"is a commonly-used ML algorithm, which combines the output of multiple decision trees to reach a single result. Its ease of use and flexibility have fueled its adoption, as it handles both classification and regression problems.\""
   ]
  },
  {
   "cell_type": "markdown",
   "metadata": {},
   "source": [
    "#### 1. Import Packages "
   ]
  },
  {
   "cell_type": "code",
   "execution_count": 1,
   "metadata": {},
   "outputs": [],
   "source": [
    "from sklearn.datasets import load_svmlight_file\n",
    "from sklearn.model_selection import train_test_split\n",
    "from sklearn.model_selection import KFold\n",
    "from sklearn.model_selection import cross_val_score\n",
    "from sklearn.metrics import accuracy_score\n",
    "from sklearn.ensemble import RandomForestClassifier\n",
    "from itertools import product\n",
    "import warnings\n",
    "import time \n",
    "warnings.filterwarnings('ignore')\n",
    "\n"
   ]
  },
  {
   "cell_type": "markdown",
   "metadata": {},
   "source": [
    "#### 2. Load Data"
   ]
  },
  {
   "cell_type": "code",
   "execution_count": 2,
   "metadata": {},
   "outputs": [],
   "source": [
    "\n",
    "X_test, y_test = load_svmlight_file(\"a9a.t\")\n",
    "X_train, y_train = load_svmlight_file(\"a9a.txt\")\n"
   ]
  },
  {
   "cell_type": "markdown",
   "metadata": {},
   "source": [
    "NOTE: For each of learning algorithms, you will need to set various hyperparameters (e.g. For Random Forest: number of estimators and min impurity decrease, etc)\n"
   ]
  },
  {
   "cell_type": "markdown",
   "metadata": {},
   "source": [
    "#### 3. Fit model on training data. Fit based on the default values of the hyperparameters for simplicity\n",
    "\n"
   ]
  },
  {
   "cell_type": "code",
   "execution_count": 34,
   "metadata": {},
   "outputs": [
    {
     "name": "stdout",
     "output_type": "stream",
     "text": [
      "Default values of the hyperparameters: \n",
      " {'bootstrap': True, 'ccp_alpha': 0.0, 'class_weight': None, 'criterion': 'gini', 'max_depth': None, 'max_features': 'auto', 'max_leaf_nodes': None, 'max_samples': None, 'min_impurity_decrease': 0.0, 'min_impurity_split': None, 'min_samples_leaf': 1, 'min_samples_split': 2, 'min_weight_fraction_leaf': 0.0, 'n_estimators': 100, 'n_jobs': None, 'oob_score': False, 'random_state': None, 'verbose': 0, 'warm_start': False}\n"
     ]
    }
   ],
   "source": [
    "model = RandomForestClassifier()\n",
    "model.fit(X_train, y_train)\n",
    "print(\"Default values of the hyperparameters: \\n\",\n",
    "      model.get_params())\n",
    "\n"
   ]
  },
  {
   "cell_type": "markdown",
   "metadata": {},
   "source": [
    "#### 4. Make predictions for the test data"
   ]
  },
  {
   "cell_type": "code",
   "execution_count": 36,
   "metadata": {},
   "outputs": [],
   "source": [
    "y_prediction = model.predict(X_test)\n",
    "predictions = [round(value) for value in y_prediction]"
   ]
  },
  {
   "cell_type": "markdown",
   "metadata": {},
   "source": [
    "#### 5. Evaluate predictions"
   ]
  },
  {
   "cell_type": "code",
   "execution_count": 37,
   "metadata": {},
   "outputs": [
    {
     "name": "stdout",
     "output_type": "stream",
     "text": [
      "\n",
      "Accuracy: 83.29%\n"
     ]
    }
   ],
   "source": [
    "accuracy = accuracy_score(y_test, predictions)\n",
    "print(\"\\nAccuracy: %.2f%%\" % (accuracy * 100))\n"
   ]
  },
  {
   "cell_type": "markdown",
   "metadata": {},
   "source": [
    "NOTES:\n",
    "\n",
    "The list of hyperparameters and brief description of each hyperparameter you tuned in training, their default values, and the final hyperparameter settings you use to get the best result. Parameters to be tuned for XGBoost: 1. n estimators : 2. bootstrap 3. max depth 4. min impurity decrease 5. min samples leaf\n"
   ]
  },
  {
   "cell_type": "markdown",
   "metadata": {},
   "source": [
    "#### 6. Tuning hyperparameters\n",
    "\n",
    "Tune the hyperparameters by seting the list of values. This will allow different combination of parameters. Meaning that the more values, more time it will take to compute.\n"
   ]
  },
  {
   "cell_type": "code",
   "execution_count": 38,
   "metadata": {},
   "outputs": [],
   "source": [
    "\n",
    "n_estimators = [50, 100, 200]\n",
    "bootstrap = [True, False]\n",
    "max_depth = [None, 500, 1000]\n",
    "min_impurity_decrease = [0.0, .05, 0.1]\n",
    "min_samples_leaf = [1, 2, 10, 100]\n",
    "\n"
   ]
  },
  {
   "cell_type": "code",
   "execution_count": 39,
   "metadata": {},
   "outputs": [],
   "source": [
    "hyperparameters = []\n",
    "for n_estimate, boot, depth, min_impurity, min_samples in product(n_estimators, bootstrap, max_depth, min_impurity_decrease, min_samples_leaf):\n",
    "    hyperparameters.append(\n",
    "        [n_estimate, boot, depth, min_impurity, min_samples])\n",
    "\n"
   ]
  },
  {
   "cell_type": "markdown",
   "metadata": {},
   "source": [
    "NOTES:\n",
    "\n",
    "Number of hyperparameters: We have 216 parameters combination with the above tuning"
   ]
  },
  {
   "cell_type": "code",
   "execution_count": 41,
   "metadata": {},
   "outputs": [
    {
     "name": "stdout",
     "output_type": "stream",
     "text": [
      "216\n"
     ]
    }
   ],
   "source": [
    "\n",
    "count = 0\n",
    "for i in hyperparameters:\n",
    "    count+=1\n",
    "\n",
    "print (count)\n",
    "    \n",
    "    "
   ]
  },
  {
   "cell_type": "code",
   "execution_count": 15,
   "metadata": {},
   "outputs": [
    {
     "data": {
      "text/plain": [
       "'Fri Apr  8 01:47:05 2022'"
      ]
     },
     "execution_count": 15,
     "metadata": {},
     "output_type": "execute_result"
    }
   ],
   "source": [
    "time.ctime()"
   ]
  },
  {
   "cell_type": "markdown",
   "metadata": {},
   "source": [
    "Started code at 09:46 PM\n",
    "Ended at 11:05 PM\n",
    "\n",
    "Takes about 1 hours and 30 minutes to run on Mac OS"
   ]
  },
  {
   "cell_type": "markdown",
   "metadata": {},
   "source": [
    "#### 7. Time it took :\n",
    "\n",
    "It took me about hours to run 216 hyperparameters combination of mac os"
   ]
  },
  {
   "cell_type": "code",
   "execution_count": 42,
   "metadata": {},
   "outputs": [
    {
     "name": "stdout",
     "output_type": "stream",
     "text": [
      "1\n",
      "2\n",
      "3\n",
      "4\n",
      "5\n",
      "6\n",
      "7\n",
      "8\n",
      "9\n",
      "10\n",
      "11\n",
      "12\n",
      "13\n",
      "14\n",
      "15\n",
      "16\n",
      "17\n",
      "18\n",
      "19\n",
      "20\n",
      "21\n",
      "22\n",
      "23\n",
      "24\n",
      "25\n",
      "26\n",
      "27\n",
      "28\n",
      "29\n",
      "30\n",
      "31\n",
      "32\n",
      "33\n",
      "34\n",
      "35\n",
      "36\n",
      "37\n",
      "38\n",
      "39\n",
      "40\n",
      "41\n",
      "42\n",
      "43\n",
      "44\n",
      "45\n",
      "46\n",
      "47\n",
      "48\n",
      "49\n",
      "50\n",
      "51\n",
      "52\n",
      "53\n",
      "54\n",
      "55\n",
      "56\n",
      "57\n",
      "58\n",
      "59\n",
      "60\n",
      "61\n",
      "62\n",
      "63\n",
      "64\n",
      "65\n",
      "66\n",
      "67\n",
      "68\n",
      "69\n",
      "70\n",
      "71\n",
      "72\n",
      "73\n",
      "74\n",
      "75\n",
      "76\n",
      "77\n",
      "78\n",
      "79\n",
      "80\n",
      "81\n",
      "82\n",
      "83\n",
      "84\n",
      "85\n",
      "86\n",
      "87\n",
      "88\n",
      "89\n",
      "90\n",
      "91\n",
      "92\n",
      "93\n",
      "94\n",
      "95\n",
      "96\n",
      "97\n",
      "98\n",
      "99\n",
      "100\n",
      "101\n",
      "102\n",
      "103\n",
      "104\n",
      "105\n",
      "106\n",
      "107\n",
      "108\n",
      "109\n",
      "110\n",
      "111\n",
      "112\n",
      "113\n",
      "114\n",
      "115\n",
      "116\n",
      "117\n",
      "118\n",
      "119\n",
      "120\n",
      "121\n",
      "122\n",
      "123\n",
      "124\n",
      "125\n",
      "126\n",
      "127\n",
      "128\n",
      "129\n",
      "130\n",
      "131\n",
      "132\n",
      "133\n",
      "134\n",
      "135\n",
      "136\n",
      "137\n",
      "138\n",
      "139\n",
      "140\n",
      "141\n",
      "142\n",
      "143\n",
      "144\n",
      "145\n",
      "146\n",
      "147\n",
      "148\n",
      "149\n",
      "150\n",
      "151\n",
      "152\n",
      "153\n",
      "154\n",
      "155\n",
      "156\n",
      "157\n",
      "158\n",
      "159\n",
      "160\n",
      "161\n",
      "162\n",
      "163\n",
      "164\n",
      "165\n",
      "166\n",
      "167\n",
      "168\n",
      "169\n",
      "170\n",
      "171\n",
      "172\n",
      "173\n",
      "174\n",
      "175\n",
      "176\n",
      "177\n",
      "178\n",
      "179\n",
      "180\n",
      "181\n",
      "182\n",
      "183\n",
      "184\n",
      "185\n",
      "186\n",
      "187\n",
      "188\n",
      "189\n",
      "190\n",
      "191\n",
      "192\n",
      "193\n",
      "194\n",
      "195\n",
      "196\n",
      "197\n",
      "198\n",
      "199\n",
      "200\n",
      "201\n",
      "202\n",
      "203\n",
      "204\n",
      "205\n",
      "206\n",
      "207\n",
      "208\n",
      "209\n",
      "210\n",
      "211\n",
      "212\n",
      "213\n",
      "214\n",
      "215\n",
      "216\n"
     ]
    },
    {
     "data": {
      "text/plain": [
       "'Fri Apr  8 23:05:00 2022'"
      ]
     },
     "execution_count": 42,
     "metadata": {},
     "output_type": "execute_result"
    }
   ],
   "source": [
    "best_accuracy = 0\n",
    "count = 0\n",
    "\n",
    "for parameter in hyperparameters:\n",
    "    n_est = parameter[0]\n",
    "    bs = parameter[1]\n",
    "    max_d = parameter[2]\n",
    "    min_i = parameter[3]\n",
    "    min_s= parameter [4]\n",
    "    \n",
    "    \n",
    "    parameters = {'n_estimators': n_est, 'bootstrap': bs, 'max_depth': max_d, 'min_impurity_decrease': min_i, 'min_samples_leaf': min_s}\n",
    "   \n",
    "    model = RandomForestClassifier(n_estimators=n_est, bootstrap=bs, max_depth=max_d, min_impurity_decrease=min_i, min_samples_leaf=min_s)\n",
    "    \n",
    "    \n",
    "    kfold = KFold()\n",
    "    cross_val_scores = cross_val_score(model, X_train, y_train, cv=kfold)# takes long\n",
    "    accuracy = cross_val_scores.mean() * 100\n",
    "    \n",
    "    count += 1\n",
    "    print(count)\n",
    "\n",
    "    if (best_accuracy < accuracy):\n",
    "        best_accuracy = accuracy\n",
    "        best_model = parameters\n",
    "\n",
    "time.ctime()\n"
   ]
  },
  {
   "cell_type": "code",
   "execution_count": 43,
   "metadata": {},
   "outputs": [
    {
     "name": "stdout",
     "output_type": "stream",
     "text": [
      "Best accuracy that we can get:  75.91904595647111\n",
      "\n",
      "The best model parameters:  {'n_estimators': 200, 'bootstrap': True, 'max_depth': 1000, 'min_impurity_decrease': 0.0, 'min_samples_leaf': 2}\n"
     ]
    },
    {
     "data": {
      "text/plain": [
       "'Fri Apr  8 23:05:36 2022'"
      ]
     },
     "execution_count": 43,
     "metadata": {},
     "output_type": "execute_result"
    }
   ],
   "source": [
    "print(\"Best accuracy that we can get: \", accuracy)\n",
    "print(\"\\nThe best model parameters: \", best_model)\n",
    "time.ctime()"
   ]
  },
  {
   "cell_type": "markdown",
   "metadata": {},
   "source": [
    "#### 8. Analysis with new hyperparameter:\n",
    "\n",
    "After several trial, I've noticed that the min_samples_leaf should be 2.  With min_samples_leaf as 2 and other fixed values, it resulted in highest accuracy."
   ]
  },
  {
   "cell_type": "code",
   "execution_count": 44,
   "metadata": {},
   "outputs": [
    {
     "name": "stdout",
     "output_type": "stream",
     "text": [
      "New values of the hyperparameters: \n",
      " {'bootstrap': True, 'ccp_alpha': 0.0, 'class_weight': None, 'criterion': 'gini', 'max_depth': None, 'max_features': 'auto', 'max_leaf_nodes': None, 'max_samples': None, 'min_impurity_decrease': 0.0, 'min_impurity_split': None, 'min_samples_leaf': 2, 'min_samples_split': 2, 'min_weight_fraction_leaf': 0.0, 'n_estimators': 300, 'n_jobs': None, 'oob_score': False, 'random_state': None, 'verbose': 0, 'warm_start': False}\n"
     ]
    }
   ],
   "source": [
    "## TRIAL \n",
    "new_model = RandomForestClassifier(n_estimators=300, bootstrap=True,\n",
    "                                   max_depth=None, min_impurity_decrease=0.0, min_samples_leaf=2)\n",
    "new_model.fit(X_train, y_train)\n",
    "print(\"New values of the hyperparameters: \\n\",\n",
    "      new_model.get_params())\n"
   ]
  },
  {
   "cell_type": "code",
   "execution_count": 45,
   "metadata": {},
   "outputs": [],
   "source": [
    "kfold = KFold()\n",
    "cross_val_scores = cross_val_score(new_model, X_train, y_train, cv=kfold)\n",
    "accuracy = cross_val_scores.mean() * 100\n",
    "\n"
   ]
  },
  {
   "cell_type": "code",
   "execution_count": 46,
   "metadata": {},
   "outputs": [
    {
     "name": "stdout",
     "output_type": "stream",
     "text": [
      "New Model Stats\n",
      "\n",
      "Accuracy: \n",
      " 84.5397949140464\n",
      "Cross Validation Training Error Rate:\n",
      "  0.15460205085953604\n",
      "Test Error Rate: \n",
      " 0.15226337448559668\n"
     ]
    }
   ],
   "source": [
    "print(\"New Model Stats\")\n",
    "print(\"\\nAccuracy: \\n\", accuracy)\n",
    "\n",
    "print(\"Cross Validation Training Error Rate:\\n \",\n",
    "      1-cross_val_scores.mean())\n",
    "\n",
    "print(\"Test Error Rate: \\n\",\n",
    "      1-new_model.score(X_test, y_test))"
   ]
  },
  {
   "cell_type": "markdown",
   "metadata": {},
   "source": [
    "**Accuracy when hyperparameter (Default) :** 75.92%\n",
    "\n",
    "**Accuracy when hyperparameter (New) :** 84.54%\n",
    "\n",
    "| Hyperparameter | Default Value | New Value |\n",
    "| :- | -: | :-: |\n",
    " *n_estimators* | 200 | 300\n",
    " *bootstrap* | True | True\n",
    " *max_depth* | 1000 | None\n",
    " *min_impurity_decrease* | 0.0 | 0.0\n",
    " *min_samples_leaf* | 2 | 2  \n",
    "\n",
    "\n",
    "\n",
    "**Cross Validation Training Error Rate:** 0.15460205085953604\n",
    "\n",
    "**Test Error Rate:** 0.15226337448559668\n",
    "\n",
    "\n",
    "\n"
   ]
  },
  {
   "cell_type": "code",
   "execution_count": null,
   "metadata": {},
   "outputs": [],
   "source": []
  }
 ],
 "metadata": {
  "kernelspec": {
   "display_name": "Python 3",
   "language": "python",
   "name": "python3"
  },
  "language_info": {
   "codemirror_mode": {
    "name": "ipython",
    "version": 3
   },
   "file_extension": ".py",
   "mimetype": "text/x-python",
   "name": "python",
   "nbconvert_exporter": "python",
   "pygments_lexer": "ipython3",
   "version": "3.8.5"
  }
 },
 "nbformat": 4,
 "nbformat_minor": 4
}
